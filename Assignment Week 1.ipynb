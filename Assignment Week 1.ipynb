{
 "cells": [
  {
   "cell_type": "code",
   "execution_count": null,
   "id": "3448e54b-cf2d-42b0-82a3-25997844adba",
   "metadata": {},
   "outputs": [],
   "source": [
    "#Q1\n",
    "# m = \"Mohit\"\n",
    "# l = [\"Mohit\", 2.1, True]\n",
    "# f = 2.1\n",
    "# t = (\"Mohit\", 2.1, True)"
   ]
  },
  {
   "cell_type": "code",
   "execution_count": null,
   "id": "b48617d3-35f9-40d7-8cc2-967c6b57d983",
   "metadata": {},
   "outputs": [],
   "source": [
    "#Q2\n",
    "#(i). Stirng\n",
    "#(ii). String\n",
    "#(iii). List\n",
    "#(iv). Integer"
   ]
  },
  {
   "cell_type": "code",
   "execution_count": null,
   "id": "da1ddfb8-6c92-429f-8d96-ad11dc5c8848",
   "metadata": {},
   "outputs": [],
   "source": [
    "#Q3\n",
    "#(i). Division\n",
    "#(ii). Remainder\n",
    "#(iii). Floor division\n",
    "#(iv). Exponential"
   ]
  },
  {
   "cell_type": "code",
   "execution_count": 2,
   "id": "74b76caf-44af-4561-9880-2c18ec91e330",
   "metadata": {},
   "outputs": [
    {
     "name": "stdout",
     "output_type": "stream",
     "text": [
      "1\n",
      "<class 'int'>\n",
      "2\n",
      "<class 'int'>\n",
      "3\n",
      "<class 'int'>\n",
      "2.1\n",
      "<class 'float'>\n",
      "Mohit\n",
      "<class 'str'>\n",
      "(1+2j)\n",
      "<class 'complex'>\n",
      "True\n",
      "<class 'bool'>\n",
      "Dev\n",
      "<class 'str'>\n",
      "3.56\n",
      "<class 'float'>\n",
      "False\n",
      "<class 'bool'>\n"
     ]
    }
   ],
   "source": [
    "#Q4\n",
    "l = [1,2,3,2.1, \"Mohit\", 1+2j, True, \"Dev\", 3.56, False]\n",
    "for i in l:\n",
    "    print(i)\n",
    "    print(type(i))"
   ]
  },
  {
   "cell_type": "code",
   "execution_count": 5,
   "id": "253a75f2-025b-47a0-a064-322c59ad411a",
   "metadata": {},
   "outputs": [
    {
     "name": "stdout",
     "output_type": "stream",
     "text": [
      "3\n",
      "6\n",
      "9\n",
      "12\n",
      "15\n",
      "18\n",
      "21\n",
      "24\n"
     ]
    }
   ],
   "source": [
    "#Q6\n",
    "List = [1,2,3,4,5,6,7,8,9,10,11,12,13,14,15,16,17,18,19,20,21,22,23,24,25]\n",
    "for a in List:\n",
    "    if a%3==0:\n",
    "        print(a)"
   ]
  },
  {
   "cell_type": "code",
   "execution_count": null,
   "id": "20756b11-5501-489c-a6b8-8f1ca4f32118",
   "metadata": {},
   "outputs": [],
   "source": [
    "#Q7\n",
    "#Mutable Data Type: Mutable Data Type is the type of a data which can be changed. For example, a list is a mutable data type.\n",
    "#Immutable Data Type: Immutable Data Type is the type of a data which can not be changed. For example,tuple and string."
   ]
  }
 ],
 "metadata": {
  "kernelspec": {
   "display_name": "Python 3 (ipykernel)",
   "language": "python",
   "name": "python3"
  },
  "language_info": {
   "codemirror_mode": {
    "name": "ipython",
    "version": 3
   },
   "file_extension": ".py",
   "mimetype": "text/x-python",
   "name": "python",
   "nbconvert_exporter": "python",
   "pygments_lexer": "ipython3",
   "version": "3.10.8"
  }
 },
 "nbformat": 4,
 "nbformat_minor": 5
}
